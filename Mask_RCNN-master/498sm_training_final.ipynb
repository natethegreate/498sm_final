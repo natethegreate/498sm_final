{
  "nbformat": 4,
  "nbformat_minor": 0,
  "metadata": {
    "colab": {
      "name": "498sm_training_final.ipynb",
      "provenance": [],
      "collapsed_sections": []
    },
    "kernelspec": {
      "name": "python3",
      "display_name": "Python 3"
    },
    "accelerator": "GPU"
  },
  "cells": [
    {
      "cell_type": "code",
      "metadata": {
        "id": "YHYvfHuly9Y4",
        "colab_type": "code",
        "colab": {}
      },
      "source": [
        "# Not sure if this or following 2 cells are required. \n",
        "!nvidia-smi #First check what GPU have"
      ],
      "execution_count": 0,
      "outputs": []
    },
    {
      "cell_type": "code",
      "metadata": {
        "id": "cGFNmt86i9NO",
        "colab_type": "code",
        "colab": {}
      },
      "source": [
        "#Get conda\n",
        "!pip3 install conda"
      ],
      "execution_count": 0,
      "outputs": []
    },
    {
      "cell_type": "code",
      "metadata": {
        "id": "agXvKaZwjEsw",
        "colab_type": "code",
        "colab": {}
      },
      "source": [
        "# !conda create -n py35 python=3.5.2 anaconda\n",
        "# !conda search python\n",
        "!wget https://repo.anaconda.com/archive/Anaconda3-5.2.0-Linux-x86_64.sh && bash Anaconda3-5.2.0-Linux-x86_64.sh -bfp /usr/local\n"
      ],
      "execution_count": 0,
      "outputs": []
    },
    {
      "cell_type": "code",
      "metadata": {
        "id": "WCXb069ilDY3",
        "colab_type": "code",
        "colab": {}
      },
      "source": [
        "# Override default python to 3.5.2. NOTE: You will need to authorize updating the packages!\n",
        "!conda list python\n",
        "!conda install python=3.5.2"
      ],
      "execution_count": 0,
      "outputs": []
    },
    {
      "cell_type": "code",
      "metadata": {
        "id": "nHDY7ORWAP99",
        "colab_type": "code",
        "colab": {}
      },
      "source": [
        "# Get to cuda 9\n",
        "!wget https://developer.nvidia.com/compute/cuda/9.0/Prod/local_installers/cuda-repo-ubuntu1604-9-0-local_9.0.176-1_amd64-deb\n",
        "!dpkg -i cuda-repo-ubuntu1604-9-0-local_9.0.176-1_amd64-deb\n",
        "!apt-key add /var/cuda-repo-9-0-local/7fa2af80.pub\n",
        "!apt-get update\n",
        "!apt-get install cuda=9.0.176-1"
      ],
      "execution_count": 0,
      "outputs": []
    },
    {
      "cell_type": "code",
      "metadata": {
        "id": "C4mpiJfLnzOt",
        "colab_type": "code",
        "colab": {}
      },
      "source": [
        "# Get repo\n",
        "!git clone https://github.com/natethegreate/498sm_final.git"
      ],
      "execution_count": 0,
      "outputs": []
    },
    {
      "cell_type": "code",
      "metadata": {
        "id": "0az4j32moQNM",
        "colab_type": "code",
        "colab": {}
      },
      "source": [
        "%cd 498sm_final/Mask_RCNN-master/\n",
        "# Switch to devel branch only for development."
      ],
      "execution_count": 0,
      "outputs": []
    },
    {
      "cell_type": "code",
      "metadata": {
        "id": "l8eX8ZDcnbrl",
        "colab_type": "code",
        "colab": {}
      },
      "source": [
        "# Mount your google drive. Makes file sharing much easier.\n",
        "from google.colab import drive\n",
        "drive.mount('/content/drive', force_remount=True)"
      ],
      "execution_count": 0,
      "outputs": []
    },
    {
      "cell_type": "code",
      "metadata": {
        "id": "CHSyLMixoVbp",
        "colab_type": "code",
        "colab": {}
      },
      "source": [
        "# Get requirements. Interrupt execution immediately after to restart runtime.\n",
        "!pip install -r requirements.txt"
      ],
      "execution_count": 0,
      "outputs": []
    },
    {
      "cell_type": "code",
      "metadata": {
        "id": "2dHurbpcNbEJ",
        "colab_type": "code",
        "colab": {}
      },
      "source": [
        "#after installing reqs, get pycoco tools\n",
        "%cd /content/\n",
        "!git clone https://github.com/waleedka/coco.git\n",
        "!pip install cython\n",
        "%cd /content/coco/PythonAPI/\n",
        "!python setup.py build_ext install\n",
        "%cd ../.."
      ],
      "execution_count": 0,
      "outputs": []
    },
    {
      "cell_type": "code",
      "metadata": {
        "id": "r9Mk3LOJQJv6",
        "colab_type": "code",
        "colab": {}
      },
      "source": [
        "# After above, you may need to restart runtime. Change to correct dir again\n",
        "%cd 498sm_final/Mask_RCNN-master/\n",
        "# !git checkout devel"
      ],
      "execution_count": 0,
      "outputs": []
    },
    {
      "cell_type": "code",
      "metadata": {
        "id": "rz-QIKlcofnh",
        "colab_type": "code",
        "colab": {}
      },
      "source": [
        "# Install mask rcnn\n",
        "!python setup.py install"
      ],
      "execution_count": 0,
      "outputs": []
    },
    {
      "cell_type": "code",
      "metadata": {
        "id": "PSTTvQ7GKByc",
        "colab_type": "code",
        "colab": {}
      },
      "source": [
        "# Do this one step at a time in case of errors. Be sure to move everything into a folder dataset_img\n",
        "!mkdir dataset_img\n",
        "%cd dataset_img/\n",
        "\n",
        "!unzip -n /content/drive/My\\ Drive/annotations_trainval2014.zip\n",
        "\n",
        "!cp /content/drive/My\\ Drive/train2014.7z /content/498sm_final/Mask_RCNN-master/train2014.7z\n",
        "!7z x ../train2014.7z \n",
        "!rm -r ../train2014.7z \n",
        "\n",
        "!cp /content/drive/My\\ Drive/val2014.7z /content/498sm_final/Mask_RCNN-master/val2014.7z\n",
        "!7z x ../val2014.7z \n",
        "!rm ../val2014.7z"
      ],
      "execution_count": 0,
      "outputs": []
    },
    {
      "cell_type": "code",
      "metadata": {
        "id": "pdIb1g3zVx62",
        "colab_type": "code",
        "colab": {}
      },
      "source": [
        "%cd annotations/\n",
        "!unzip -n /content/drive/My\\ Drive/instances_minival2014.json.zip\n",
        "!unzip -n /content/drive/My\\ Drive/instances_valminusminival2014.json.zip\n",
        "%cd ../../"
      ],
      "execution_count": 0,
      "outputs": []
    },
    {
      "cell_type": "code",
      "metadata": {
        "id": "dGD7z7Wioj5-",
        "colab_type": "code",
        "colab": {}
      },
      "source": [
        "# Obtain weights and dataset from drive. You will need to change this depending on your drive layout\n",
        "# !cp /content/drive/My\\ Drive/mask_rcnn_coco_2.h5 .\n",
        "# !7z x /content/drive/My\\ Drive/dataset_img.7z .\n",
        "# !wget --load-cookies /tmp/cookies.txt \"https://docs.google.com/uc?export=download&confirm=$(wget --quiet --save-cookies /tmp/cookies.txt --keep-session-cookies --no-check-certificate 'https://docs.google.com/uc?export=download&id=1vtDKPLar1TFc8b7JP2r099gd1w3RcUbx' -O- | sed -rn 's/.*confirm=([0-9A-Za-z_]+).*/\\1\\n/p')&id=1vtDKPLar1TFc8b7JP2r099gd1w3RcUbx\" -O dataset_im.7z && rm -rf /tmp/cookies.txt\n",
        "# !ls\n",
        "# !rm -rf dataset_img/ # delet empty git folder\n",
        "# !cp /content/drive/My\\ Drive/hentAI/dataset_img.7z . #Change this to whatever dataset is needed\n",
        "# !7z x dataset_img.7z"
      ],
      "execution_count": 0,
      "outputs": []
    },
    {
      "cell_type": "code",
      "metadata": {
        "id": "EwLuxbkQwLyH",
        "colab_type": "code",
        "colab": {}
      },
      "source": [
        "# Remove tensorflow normal to operate on GPU only? NOTE: You will need to authorize both uninstalls\n",
        "# !pip uninstall tensorflow-gpu\n",
        "!pip uninstall tensorflow \n",
        "!pip uninstall protobuf\n",
        "# !pip install tensorflow==1.8.0\n",
        "!pip install --force-reinstall tensorflow-gpu==1.9.0 "
      ],
      "execution_count": 0,
      "outputs": []
    },
    {
      "cell_type": "code",
      "metadata": {
        "id": "l-_SnmO9eNal",
        "colab_type": "code",
        "colab": {}
      },
      "source": [
        "# Runtime may be restarted. \n",
        "%cd /content/498sm_final/Mask_RCNN-master/ \n",
        "!mkdir /content/drive/My\\ Drive/logs\n",
        "!git pull"
      ],
      "execution_count": 0,
      "outputs": []
    },
    {
      "cell_type": "code",
      "metadata": {
        "id": "ovKLyDWw7ZP4",
        "colab_type": "code",
        "colab": {}
      },
      "source": [
        "# Begin training! Please keep this window open#mask_rcnn_hentai_0008.h5\n",
        "!python samples/final/coco.py train --year=2014 --dataset=dataset_img --model=last --logs=/content/drive/My\\ Drive/logs"
      ],
      "execution_count": 0,
      "outputs": []
    }
  ]
}