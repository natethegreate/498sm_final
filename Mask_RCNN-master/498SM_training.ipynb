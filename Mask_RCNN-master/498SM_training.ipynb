{
  "nbformat": 4,
  "nbformat_minor": 0,
  "metadata": {
    "colab": {
      "name": "498SM_training.ipynb",
      "provenance": [],
      "collapsed_sections": []
    },
    "kernelspec": {
      "name": "python3",
      "display_name": "Python 3"
    },
    "accelerator": "GPU"
  },
  "cells": [
    {
      "cell_type": "code",
      "metadata": {
        "id": "YHYvfHuly9Y4",
        "colab_type": "code",
        "colab": {}
      },
      "source": [
        "# Not sure if this or following 2 cells are required. \n",
        "# !pip3 install virtualenv\n",
        "# !virtualenv theanoEnv\n",
        "!nvidia-smi #First check what GPU have"
      ],
      "execution_count": 0,
      "outputs": []
    },
    {
      "cell_type": "code",
      "metadata": {
        "id": "e-ZquFUszJD-",
        "colab_type": "code",
        "colab": {}
      },
      "source": [
        "# !source /content/theanoEnv/bin/activate; pip3 install theano"
      ],
      "execution_count": 0,
      "outputs": []
    },
    {
      "cell_type": "code",
      "metadata": {
        "id": "0a7lA-T3zgXt",
        "colab_type": "code",
        "colab": {}
      },
      "source": [
        "# !source /content/theanoEnv/bin/activate; pip3 list"
      ],
      "execution_count": 0,
      "outputs": []
    },
    {
      "cell_type": "code",
      "metadata": {
        "id": "cGFNmt86i9NO",
        "colab_type": "code",
        "colab": {}
      },
      "source": [
        "#Get conda\n",
        "!pip3 install conda"
      ],
      "execution_count": 0,
      "outputs": []
    },
    {
      "cell_type": "code",
      "metadata": {
        "id": "agXvKaZwjEsw",
        "colab_type": "code",
        "colab": {}
      },
      "source": [
        "# !conda create -n py35 python=3.5.2 anaconda\n",
        "# !conda search python\n",
        "!wget https://repo.anaconda.com/archive/Anaconda3-5.2.0-Linux-x86_64.sh && bash Anaconda3-5.2.0-Linux-x86_64.sh -bfp /usr/local\n"
      ],
      "execution_count": 0,
      "outputs": []
    },
    {
      "cell_type": "code",
      "metadata": {
        "id": "WCXb069ilDY3",
        "colab_type": "code",
        "colab": {}
      },
      "source": [
        "# Override default python to 3.5.2. NOTE: You will need to authorize updating the packages!\n",
        "!conda list python\n",
        "!conda install python=3.5.2"
      ],
      "execution_count": 0,
      "outputs": []
    },
    {
      "cell_type": "code",
      "metadata": {
        "id": "pzxzdNj2lfjg",
        "colab_type": "code",
        "colab": {}
      },
      "source": [
        "# Verify python version. Must be 3.5.2!\n",
        "!python --version\n"
      ],
      "execution_count": 0,
      "outputs": []
    },
    {
      "cell_type": "code",
      "metadata": {
        "id": "nHDY7ORWAP99",
        "colab_type": "code",
        "colab": {}
      },
      "source": [
        "# Get to cuda 9\n",
        "!wget https://developer.nvidia.com/compute/cuda/9.0/Prod/local_installers/cuda-repo-ubuntu1604-9-0-local_9.0.176-1_amd64-deb\n",
        "!dpkg -i cuda-repo-ubuntu1604-9-0-local_9.0.176-1_amd64-deb\n",
        "!apt-key add /var/cuda-repo-9-0-local/7fa2af80.pub\n",
        "!apt-get update\n",
        "!apt-get install cuda=9.0.176-1"
      ],
      "execution_count": 0,
      "outputs": []
    },
    {
      "cell_type": "code",
      "metadata": {
        "id": "GifUj4zBBKoM",
        "colab_type": "code",
        "colab": {}
      },
      "source": [
        "# Verify hardware is ok after cuda install\n",
        "# !nvidia-smi"
      ],
      "execution_count": 0,
      "outputs": []
    },
    {
      "cell_type": "code",
      "metadata": {
        "id": "C4mpiJfLnzOt",
        "colab_type": "code",
        "colab": {}
      },
      "source": [
        "# Get repo\n",
        "!git clone https://github-dev.cs.illinois.edu/ncueto2/498_Final.git"
      ],
      "execution_count": 0,
      "outputs": []
    },
    {
      "cell_type": "code",
      "metadata": {
        "id": "0az4j32moQNM",
        "colab_type": "code",
        "colab": {}
      },
      "source": [
        "%cd Mask_RCNN-master/\n",
        "# Switch to devel branch only for development.\n",
        "# !git checkout master\n",
        "# !git pull"
      ],
      "execution_count": 0,
      "outputs": []
    },
    {
      "cell_type": "code",
      "metadata": {
        "id": "l8eX8ZDcnbrl",
        "colab_type": "code",
        "colab": {}
      },
      "source": [
        "# Mount your google drive. Makes file sharing much easier.\n",
        "from google.colab import drive\n",
        "drive.mount('/content/drive', force_remount=True)"
      ],
      "execution_count": 0,
      "outputs": []
    },
    {
      "cell_type": "code",
      "metadata": {
        "id": "CHSyLMixoVbp",
        "colab_type": "code",
        "colab": {}
      },
      "source": [
        "# Get requirements. Interrupt execution immediately after to restart runtime.\n",
        "!pip install -r requirements.txt"
      ],
      "execution_count": 0,
      "outputs": []
    },
    {
      "cell_type": "code",
      "metadata": {
        "id": "r9Mk3LOJQJv6",
        "colab_type": "code",
        "colab": {}
      },
      "source": [
        "# After above, you may need to restart runtime. Change to correct dir again\n",
        "%cd Mask_RCNN-master/"
      ],
      "execution_count": 0,
      "outputs": []
    },
    {
      "cell_type": "code",
      "metadata": {
        "id": "rz-QIKlcofnh",
        "colab_type": "code",
        "colab": {}
      },
      "source": [
        "# Install mask rcnn\n",
        "!python setup.py install"
      ],
      "execution_count": 0,
      "outputs": []
    },
    {
      "cell_type": "code",
      "metadata": {
        "id": "dGD7z7Wioj5-",
        "colab_type": "code",
        "colab": {}
      },
      "source": [
        "# Obtain weights and dataset from drive. You will need to change this depending on your drive layout\n",
        "!ls\n",
        "!rm -rf dataset_img/ # delet empty git folder\n",
        "!cp /content/drive/My\\ Drive/hentAI/dataset_img.7z . #Change this to whatever dataset is needed\n",
        "!7z x dataset_img.7z"
      ],
      "execution_count": 0,
      "outputs": []
    },
    {
      "cell_type": "code",
      "metadata": {
        "id": "XtT6co2da3hF",
        "colab_type": "code",
        "colab": {}
      },
      "source": [
        "# Get weights and clean too\n",
        "!rm dataset_img.7z\n",
        "# !unzip -n /content/drive/My\\ Drive/hentAI/weights.zip "
      ],
      "execution_count": 0,
      "outputs": []
    },
    {
      "cell_type": "code",
      "metadata": {
        "id": "LOs8E1BU2dk2",
        "colab_type": "code",
        "colab": {}
      },
      "source": [
        "!mkdir /logs\n",
        "!mkdir /logs/hentai20200408T2210\n",
        "# Get last model, probably from GDrive. Just use UI to the left to drag it into the logs."
      ],
      "execution_count": 0,
      "outputs": []
    },
    {
      "cell_type": "code",
      "metadata": {
        "id": "Kp6X4llLqBip",
        "colab_type": "code",
        "colab": {}
      },
      "source": [
        "# verify dataset\n",
        "!ls\n",
        "!ls dataset_img # verify dataset_img unzipped to correct format. Should see train and val folders."
      ],
      "execution_count": 0,
      "outputs": []
    },
    {
      "cell_type": "code",
      "metadata": {
        "id": "EwLuxbkQwLyH",
        "colab_type": "code",
        "colab": {}
      },
      "source": [
        "# Remove tensorflow normal to operate on GPU only? NOTE: You will need to authorize both uninstalls\n",
        "# !pip uninstall tensorflow-gpu\n",
        "!pip uninstall tensorflow \n",
        "!pip uninstall protobuf\n",
        "# !pip install tensorflow==1.8.0\n",
        "!pip install --force-reinstall tensorflow-gpu==1.9.0 "
      ],
      "execution_count": 0,
      "outputs": []
    },
    {
      "cell_type": "code",
      "metadata": {
        "id": "l-_SnmO9eNal",
        "colab_type": "code",
        "colab": {}
      },
      "source": [
        "# Runtime may be restarted. \n",
        "%cd Mask_RCNN-master/"
      ],
      "execution_count": 0,
      "outputs": []
    },
    {
      "cell_type": "code",
      "metadata": {
        "id": "ovKLyDWw7ZP4",
        "colab_type": "code",
        "colab": {}
      },
      "source": [
        "# Begin training! Please keep this window open#mask_rcnn_hentai_0008.h5\n",
        "!python samples/hentai/hentai.py train --dataset=dataset_img --weights=last"
      ],
      "execution_count": 0,
      "outputs": []
    }
  ]
}